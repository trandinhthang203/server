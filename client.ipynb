{
 "cells": [
  {
   "cell_type": "code",
   "execution_count": 7,
   "metadata": {},
   "outputs": [
    {
     "name": "stdout",
     "output_type": "stream",
     "text": [
      "Dữ liệu nhận được từ server: {'status': 1, 'message': 'Dữ liệu đã được nhận thành công. Đang chờ dữ liệu từ client khác.'}\n"
     ]
    }
   ],
   "source": [
    "import requests\n",
    "import json\n",
    "\n",
    "data_to_send = {\n",
    "    \"name\": \"tao\"\n",
    "}\n",
    "\n",
    "#server_url = \"https://server-1-c9nx.onrender.com/fruits/receive_fruits\"\n",
    "server_url = \"http://localhost:3000/fruits/receive_fruits\"\n",
    "\n",
    "response = requests.post(server_url, json=data_to_send)\n",
    "\n",
    "if response.status_code == 200:\n",
    "    print(\"Dữ liệu nhận được từ server:\", response.json())\n",
    "elif response.status_code == 400:\n",
    "    print(\"Server:\", response.json())\n",
    "else:\n",
    "    print(\"Đã xảy ra lỗi trong quá trình gửi yêu cầu.\")\n"
   ]
  },
  {
   "cell_type": "code",
   "execution_count": 8,
   "metadata": {},
   "outputs": [
    {
     "name": "stdout",
     "output_type": "stream",
     "text": [
      "Dữ liệu nhận được từ server: {'status': 1, 'message': 'Dữ liệu đã được cập nhật vào cơ sở dữ liệu thành công.'}\n"
     ]
    }
   ],
   "source": [
    "import requests\n",
    "import json\n",
    "\n",
    "data_to_send = {\n",
    "    \"weight\": 1\n",
    "}\n",
    "\n",
    "#server_url = \"https://server-1-c9nx.onrender.com/fruits/receive_fruits\"\n",
    "server_url = \"http://localhost:3000/fruits/receive_fruits\"\n",
    "\n",
    "response = requests.post(server_url, json=data_to_send)\n",
    "\n",
    "if response.status_code == 200:\n",
    "    print(\"Dữ liệu nhận được từ server:\", response.json())\n",
    "elif response.status_code == 400:\n",
    "    print(\"Server:\", response.json())\n",
    "else:\n",
    "    print(\"Đã xảy ra lỗi trong quá trình gửi yêu cầu.\")\n"
   ]
  },
  {
   "cell_type": "code",
   "execution_count": 2,
   "metadata": {},
   "outputs": [
    {
     "name": "stdout",
     "output_type": "stream",
     "text": [
      "Dữ liệu đã được xóa khỏi cơ sở dữ liệu thành công.\n"
     ]
    }
   ],
   "source": [
    "import requests\n",
    "\n",
    "url = 'http://localhost:3000/fruits/delete_fruits'\n",
    "data = {'value': 'oke'}\n",
    "\n",
    "try:\n",
    "    response = requests.post(url, json=data)\n",
    "    if response.status_code == 200:\n",
    "        json_response = response.json()\n",
    "        if json_response['status'] == 1:\n",
    "            print(json_response['message'])\n",
    "        else:\n",
    "            print(\"Error:\", json_response['error'])\n",
    "    else:\n",
    "        print(\"Error:\", response.status_code)\n",
    "except Exception as e:\n",
    "    print(\"An error occurred:\", e)\n"
   ]
  }
 ],
 "metadata": {
  "kernelspec": {
   "display_name": "Python 3",
   "language": "python",
   "name": "python3"
  },
  "language_info": {
   "codemirror_mode": {
    "name": "ipython",
    "version": 3
   },
   "file_extension": ".py",
   "mimetype": "text/x-python",
   "name": "python",
   "nbconvert_exporter": "python",
   "pygments_lexer": "ipython3",
   "version": "3.12.0"
  }
 },
 "nbformat": 4,
 "nbformat_minor": 2
}
