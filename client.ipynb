{
 "cells": [
  {
   "cell_type": "code",
   "execution_count": 15,
   "metadata": {},
   "outputs": [
    {
     "name": "stdout",
     "output_type": "stream",
     "text": [
      "Dữ liệu nhận được từ server: {'status': 1, 'message': 'Dữ liệu đã được lưu vào cơ sở dữ liệu thành công.'}\n"
     ]
    }
   ],
   "source": [
    "import requests\n",
    "import json\n",
    "\n",
    "data_to_send = {\n",
    "    \"name\": \"oi\",\n",
    "    \"weight\": 1.5\n",
    "}\n",
    "\n",
    "server_url = \"https://server-1-c9nx.onrender.com/fruits/receive_fruits\"\n",
    "# server_url = \"http://localhost:3000/fruits/receive_fruits\"\n",
    "\n",
    "response = requests.post(server_url, json=data_to_send)\n",
    "\n",
    "if response.status_code == 200:\n",
    "    print(\"Dữ liệu nhận được từ server:\", response.json())\n",
    "else:\n",
    "    print(\"Đã xảy ra lỗi trong quá trình gửi yêu cầu.\")\n"
   ]
  }
 ],
 "metadata": {
  "kernelspec": {
   "display_name": "Python 3",
   "language": "python",
   "name": "python3"
  },
  "language_info": {
   "codemirror_mode": {
    "name": "ipython",
    "version": 3
   },
   "file_extension": ".py",
   "mimetype": "text/x-python",
   "name": "python",
   "nbconvert_exporter": "python",
   "pygments_lexer": "ipython3",
   "version": "3.12.0"
  }
 },
 "nbformat": 4,
 "nbformat_minor": 2
}
